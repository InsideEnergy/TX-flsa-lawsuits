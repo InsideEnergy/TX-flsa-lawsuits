{
 "cells": [
  {
   "cell_type": "code",
   "execution_count": 1,
   "metadata": {
    "collapsed": true
   },
   "outputs": [],
   "source": [
    "import pandas as pd\n",
    "import numpy as np\n",
    "import csv\n",
    "import nltk"
   ]
  },
  {
   "cell_type": "code",
   "execution_count": 6,
   "metadata": {
    "collapsed": true
   },
   "outputs": [],
   "source": [
    "#Define yes and no keyword lists"
   ]
  },
  {
   "cell_type": "code",
   "execution_count": 7,
   "metadata": {
    "collapsed": true
   },
   "outputs": [],
   "source": [
    "yes_keywords = ['OIL', 'GAS', 'PETROLEUM', 'PIPELINE', 'OILFIELD', 'MIDSTREAM', 'CRUDE', 'DRILLING', 'WELL', 'OILFIELD', 'DOWNHOLE', 'EXPLORATION', 'DRILL', 'GATHERING', 'FIELD','DIRECTIONAL','PRESSURE', 'PUMPING', 'MUD', 'WASTEWATER','XTO','SCHLUMBERGER','ANADARKDO','DEVON ENERGY','CHESAPEAKE','EOG','ENERVEST','LEWIS PETRO','PIONEER NATURAL','BHP','SM ENERGY','OXY USA','SAMSON LONE STAR','HILCORP','CONOCO','SABINE','BP AMERICA','LINN OPERATING','SWIFT ENERGY','COVEY PARK','CHEVRON','CIMAREX','UNIT PETROLEUM','LE NORMAN','APACHE','MEMORIAL PRODUCTION','MARATHON OIL','SANDRIDGE','VALENCE OPERATING','PREMIER NATURAL','OCCIDENTAL PERMIAN','MURPHY EXPL','KINGER MORGAN','COG OPERATING','OXY USA','COMSTOCK OIL','LAREDO PETROLEUM','HESS CORP','SHERIDAN PRODUCTION','DENBURY ONSHORE','DIAMONDBACK E&P','FASKEN','SHELL WESTERN','EXCO', 'CASEDHOLE']"
   ]
  },
  {
   "cell_type": "code",
   "execution_count": 8,
   "metadata": {
    "collapsed": true
   },
   "outputs": [],
   "source": [
    "no_keywords = ['FURNITURE', 'RESTAURANT','HOME','HEALTH','CARE','HEALTHCARE','WELLNESS','EDUCATION','SECURITY','TIRE','FITNESS','MEDICAL','TAQUERIA','FOOD','APARTMENT','SPORT','CANTINA','BEVERAGE','UNIVERSITY','LAW','PROPERTY MANAGEMENT','CITY','COUNTY','ATHLETIC', 'SOCCER','HOUSE', 'CULTURAL', 'GOURMET', 'BUFFET', 'DENTAL', 'NURSE', 'CAFE', 'PARKING', 'VALET', 'PHO', 'COLLEGE','FLOOR','SALOON','WIRELESS','SCHOOL','GROCER','MEDIA','FINANCIAL','HOTEL','GRILL','COMMUNICATIONS', 'LANDSCAPE','LANDSCAPING','MARKETING','SOFTWARE','PIZZA','RESIDENTIAL','RESIDENCE','COURIER','MORTGAGE','FAITH','KENNEL','JANITOR','TEACHER','CREDIT','PEST', 'FASHION','BILLIARD','ORTHOPED','ORTHODON','CHIROPRACT','CLINIC','COMMUNIT','CELLULAR','ROOF','REALTY','ENTERTAINMENT','AIR CONDITION','DOLGENCORP','JEWELRY','TACO','NURSING','EMERGENCY','PLASTERING','GOLF','INSURANCE','LEARNING','TOWING','PAINTING','HOSPITALITY','PACKAGING','STORAGE','AUTOMOTIVE','ACADEMY','HOUSING','HOSPICE','GARDEN','POOLS','CLEANERS','SLEEP','MEAT','TIMEKEEPERS','BURGER','DINING','BROADBAND','DEBT']"
   ]
  },
  {
   "cell_type": "code",
   "execution_count": 9,
   "metadata": {
    "collapsed": false
   },
   "outputs": [],
   "source": [
    "# Import checked names to list\n",
    "with open('MechTurkCheckedCleaned.csv', 'rb') as f:\n",
    "    reader = csv.reader(f)\n",
    "    checked_list = list(reader)\n",
    "\n",
    "    # Import unchecked names to list\n",
    "with open('TX_lawsuits_unchecked.csv', 'rb') as f:\n",
    "    reader = csv.reader(f)\n",
    "    unchecked_list = list(reader)"
   ]
  },
  {
   "cell_type": "code",
   "execution_count": 10,
   "metadata": {
    "collapsed": true
   },
   "outputs": [],
   "source": [
    "# test_checked = [('a','b','c','d','e'),('f','g','h','i','j')]\n",
    "# test_unchecked = [('1','2','3','4','5'),('6', '7','8','9','j')]"
   ]
  },
  {
   "cell_type": "code",
   "execution_count": 11,
   "metadata": {
    "collapsed": false
   },
   "outputs": [],
   "source": [
    "def check_for_matches(checked, unchecked):\n",
    "    additions = []\n",
    "    to_check = []\n",
    "    for i in unchecked:\n",
    "        match = False\n",
    "        for j in checked:\n",
    "            if i[4] == j[4]:\n",
    "                i[2] = j[2]\n",
    "                additions.append(i)\n",
    "                match = True\n",
    "                break\n",
    "        if match == False:\n",
    "            to_check.append(i)\n",
    "\n",
    "    return checked + additions, to_check\n",
    "                "
   ]
  },
  {
   "cell_type": "code",
   "execution_count": 12,
   "metadata": {
    "collapsed": false
   },
   "outputs": [],
   "source": [
    "# Test result_checked, result_unchecked = check_for_matches(test_checked, test_unchecked)"
   ]
  },
  {
   "cell_type": "code",
   "execution_count": 13,
   "metadata": {
    "collapsed": false
   },
   "outputs": [],
   "source": [
    "result_checked, result_unchecked = check_for_matches(checked_list, unchecked_list)"
   ]
  },
  {
   "cell_type": "code",
   "execution_count": 14,
   "metadata": {
    "collapsed": false
   },
   "outputs": [
    {
     "data": {
      "text/plain": [
       "731"
      ]
     },
     "execution_count": 14,
     "metadata": {},
     "output_type": "execute_result"
    }
   ],
   "source": [
    "len(result_checked)"
   ]
  },
  {
   "cell_type": "code",
   "execution_count": 15,
   "metadata": {
    "collapsed": false
   },
   "outputs": [
    {
     "data": {
      "text/plain": [
       "4175"
      ]
     },
     "execution_count": 15,
     "metadata": {},
     "output_type": "execute_result"
    }
   ],
   "source": [
    "len(result_unchecked)"
   ]
  },
  {
   "cell_type": "code",
   "execution_count": 16,
   "metadata": {
    "collapsed": false
   },
   "outputs": [],
   "source": [
    "def check_for_yes(checked, unchecked, keywords):\n",
    "    additions = []\n",
    "    to_check = []\n",
    "    for i in unchecked:\n",
    "        match = False\n",
    "        for j in keywords:\n",
    "            if j in i[4]:\n",
    "                i[2] = 'y'\n",
    "                additions.append(i)\n",
    "                match = True\n",
    "                break\n",
    "        if match == False:\n",
    "            to_check.append(i)\n",
    "    return checked + additions, to_check"
   ]
  },
  {
   "cell_type": "code",
   "execution_count": 17,
   "metadata": {
    "collapsed": true
   },
   "outputs": [],
   "source": [
    "result_checked_yes, result_unchecked_yes = check_for_yes(result_checked, result_unchecked, yes_keywords)"
   ]
  },
  {
   "cell_type": "code",
   "execution_count": 18,
   "metadata": {
    "collapsed": false
   },
   "outputs": [
    {
     "data": {
      "text/plain": [
       "3912"
      ]
     },
     "execution_count": 18,
     "metadata": {},
     "output_type": "execute_result"
    }
   ],
   "source": [
    "len(result_unchecked_yes)"
   ]
  },
  {
   "cell_type": "code",
   "execution_count": 19,
   "metadata": {
    "collapsed": true
   },
   "outputs": [],
   "source": [
    "def check_for_no(checked, unchecked, keywords):\n",
    "    additions = []\n",
    "    to_check = []\n",
    "    for i in unchecked:\n",
    "        match = False\n",
    "        for j in keywords:\n",
    "            if j in i[4]:\n",
    "                i[2] = 'n'\n",
    "                additions.append(i)\n",
    "                match = True\n",
    "                break\n",
    "        if match == False:\n",
    "            to_check.append(i)\n",
    "    return checked + additions, to_check"
   ]
  },
  {
   "cell_type": "code",
   "execution_count": 20,
   "metadata": {
    "collapsed": true
   },
   "outputs": [],
   "source": [
    "result_checked_no, result_unchecked_no = check_for_no(result_checked_yes, result_unchecked_yes, no_keywords)"
   ]
  },
  {
   "cell_type": "code",
   "execution_count": 21,
   "metadata": {
    "collapsed": false
   },
   "outputs": [
    {
     "data": {
      "text/plain": [
       "1952"
      ]
     },
     "execution_count": 21,
     "metadata": {},
     "output_type": "execute_result"
    }
   ],
   "source": [
    "len(result_checked_no)"
   ]
  },
  {
   "cell_type": "code",
   "execution_count": 22,
   "metadata": {
    "collapsed": false
   },
   "outputs": [
    {
     "data": {
      "text/plain": [
       "2954"
      ]
     },
     "execution_count": 22,
     "metadata": {},
     "output_type": "execute_result"
    }
   ],
   "source": [
    "len(result_unchecked_no)"
   ]
  },
  {
   "cell_type": "code",
   "execution_count": 23,
   "metadata": {
    "collapsed": false
   },
   "outputs": [],
   "source": [
    "def create_text_list(list):\n",
    "    name_list = []\n",
    "    for i in list:\n",
    "        name_list.append(i[4])\n",
    "    return ','.join(name_list)"
   ]
  },
  {
   "cell_type": "code",
   "execution_count": 24,
   "metadata": {
    "collapsed": false
   },
   "outputs": [],
   "source": [
    "all_names = create_text_list(result_unchecked_no)"
   ]
  },
  {
   "cell_type": "code",
   "execution_count": 25,
   "metadata": {
    "collapsed": false
   },
   "outputs": [],
   "source": [
    "tokens = nltk.word_tokenize(all_names)"
   ]
  },
  {
   "cell_type": "code",
   "execution_count": 26,
   "metadata": {
    "collapsed": true
   },
   "outputs": [],
   "source": [
    "fd = nltk.FreqDist(tokens)"
   ]
  },
  {
   "cell_type": "code",
   "execution_count": 27,
   "metadata": {
    "collapsed": false
   },
   "outputs": [],
   "source": [
    "word_list = fd.items()"
   ]
  },
  {
   "cell_type": "code",
   "execution_count": 28,
   "metadata": {
    "collapsed": false
   },
   "outputs": [],
   "source": [
    "def filter_fd(fd, threshold):\n",
    "    filtered_list = []\n",
    "    for i in fd:\n",
    "        if i[1] > threshold:\n",
    "            filtered_list.append(i)\n",
    "    return filtered_list\n",
    "            "
   ]
  },
  {
   "cell_type": "code",
   "execution_count": 29,
   "metadata": {
    "collapsed": false
   },
   "outputs": [
    {
     "data": {
      "text/plain": [
       "[('LIFE', 4),\n",
       " ('POWER', 7),\n",
       " ('ENGINEERING', 5),\n",
       " ('INSPECTION', 6),\n",
       " ('CHASE', 5),\n",
       " ('SUPPLY', 8),\n",
       " ('RUIZ', 4),\n",
       " ('GUARD', 5),\n",
       " ('SYSTEMS', 39),\n",
       " ('UNDER', 17),\n",
       " ('LLC.', 18),\n",
       " ('WELDING', 7),\n",
       " ('NOT', 31),\n",
       " ('LEGEND', 4),\n",
       " ('UNIVERSAL', 7),\n",
       " ('CHEMICAL', 4),\n",
       " ('WESTERN', 6),\n",
       " ('ELECTRIC', 12),\n",
       " ('DXP', 5),\n",
       " ('LA', 12),\n",
       " ('GP', 5),\n",
       " ('ONE', 7),\n",
       " ('LP', 68),\n",
       " ('III', 4),\n",
       " ('A', 21),\n",
       " ('FORD', 4),\n",
       " ('U.S.A.', 5),\n",
       " ('UNLIMITED', 5),\n",
       " ('SALES', 4),\n",
       " ('M-I', 4),\n",
       " ('L.P.', 20),\n",
       " (',', 4716),\n",
       " ('SOURCE', 5),\n",
       " ('PROPERTIES', 5),\n",
       " ('EXPRESS', 10),\n",
       " ('CORPORATION', 114),\n",
       " ('WORKS', 11),\n",
       " ('CSOS', 4),\n",
       " ('W', 4),\n",
       " ('MOBILE', 4),\n",
       " ('AMERICAS', 4),\n",
       " ('GLASS', 5),\n",
       " ('MATERIALS', 5),\n",
       " ('LAND', 5),\n",
       " ('AREA', 4),\n",
       " ('VENTURES', 8),\n",
       " ('ASSOCIATION', 6),\n",
       " ('B', 49),\n",
       " ('TRADING', 4),\n",
       " ('AUSTIN', 10),\n",
       " ('CONSTRUCTORS', 15),\n",
       " ('RECOVERY', 6),\n",
       " ('TESTING', 6),\n",
       " ('-', 9),\n",
       " ('DELIVERY', 11),\n",
       " ('FLORES', 4),\n",
       " ('PERSONNEL', 8),\n",
       " ('MEXICAN', 4),\n",
       " ('C', 12),\n",
       " ('COMMERCIAL', 11),\n",
       " ('.', 729),\n",
       " ('CO', 15),\n",
       " ('CAPSTONE', 4),\n",
       " ('RENTAL', 9),\n",
       " ('AUCTION', 4),\n",
       " ('ELITE', 4),\n",
       " ('ENVIRONMENTAL', 9),\n",
       " ('PLLC', 6),\n",
       " ('FREIGHT', 4),\n",
       " ('MECHANICAL', 8),\n",
       " ('BUILDERS', 5),\n",
       " ('D', 11),\n",
       " ('SUPPORT', 4),\n",
       " ('PRODUCTION', 16),\n",
       " ('INCORPORATED', 11),\n",
       " ('INTERTEK', 5),\n",
       " ('QUALITY', 7),\n",
       " ('SERVICE', 55),\n",
       " ('ANTONIO', 6),\n",
       " ('INDUSTRIES', 29),\n",
       " ('CORP', 14),\n",
       " ('ENGINEERS', 11),\n",
       " ('SAFETY', 4),\n",
       " ('SPECIALISTS', 4),\n",
       " ('E', 5),\n",
       " ('METAL', 6),\n",
       " ('SOUTHWEST', 9),\n",
       " (\"'S\", 67),\n",
       " ('WEST', 5),\n",
       " ('STORES', 4),\n",
       " ('UNITED', 5),\n",
       " ('DALLAS', 13),\n",
       " ('LEWIS', 7),\n",
       " ('CONCRETE', 7),\n",
       " ('PCM', 4),\n",
       " ('COMPANY', 57),\n",
       " ('UNION', 4),\n",
       " ('AMSPEC', 5),\n",
       " ('ENTERPRISES', 90),\n",
       " ('WIRELINE', 8),\n",
       " ('INC', 742),\n",
       " ('DAYBREAK', 4),\n",
       " ('CRANE', 5),\n",
       " ('AMERICA', 27),\n",
       " ('OFFSHORE', 5),\n",
       " ('F', 5),\n",
       " ('PLUMBING', 4),\n",
       " ('ADVANCED', 7),\n",
       " ('TRUCK', 4),\n",
       " ('RECYCLING', 10),\n",
       " ('1', 7),\n",
       " ('SOUTHERN', 10),\n",
       " ('CORP.', 10),\n",
       " ('WORLDWIDE', 7),\n",
       " ('SCAFFOLD', 4),\n",
       " ('SILVER', 4),\n",
       " ('BASS', 4),\n",
       " ('FAMILY', 9),\n",
       " ('ENERGY', 110),\n",
       " ('L.L.C', 27),\n",
       " ('P.A', 9),\n",
       " ('/FONT', 34),\n",
       " ('G', 9),\n",
       " ('TECHNOLOGIES', 10),\n",
       " ('ISC', 4),\n",
       " ('RENTALS', 5),\n",
       " ('2', 4),\n",
       " ('CONSOLIDATED', 17),\n",
       " ('JOHN', 8),\n",
       " ('DO', 33),\n",
       " ('EMPIRE', 5),\n",
       " ('L.C', 6),\n",
       " ('P.A.', 6),\n",
       " ('H', 5),\n",
       " ('NATIONAL', 12),\n",
       " ('HAS', 12),\n",
       " ('TOWN', 5),\n",
       " ('TRANSFERRED', 21),\n",
       " ('EMS', 4),\n",
       " ('WASTE', 16),\n",
       " ('EAGLE', 5),\n",
       " ('FOR', 5),\n",
       " ('PARTNERS', 15),\n",
       " ('CLUB', 4),\n",
       " ('SAN', 6),\n",
       " ('GULF', 5),\n",
       " ('ASSOCIATES', 30),\n",
       " ('CASE', 44),\n",
       " ('CAMBER', 6),\n",
       " ('CO.', 22),\n",
       " ('ORGAN', 4),\n",
       " ('D/B/A', 55),\n",
       " ('AIR', 11),\n",
       " ('NABORS', 4),\n",
       " ('CONTROL', 9),\n",
       " ('I', 7),\n",
       " ('IS', 16),\n",
       " ('II', 7),\n",
       " ('CAPITAL', 6),\n",
       " ('TEXAS', 76),\n",
       " ('CARRIERS', 4),\n",
       " ('PROFESSIONAL', 6),\n",
       " ('DESIGNS', 4),\n",
       " ('STONE', 8),\n",
       " ('FINA', 4),\n",
       " ('FONT', 34),\n",
       " ('HOUSTON', 35),\n",
       " ('M.D.', 6),\n",
       " ('PLACE', 6),\n",
       " ('L.P', 20),\n",
       " ('ALLIANCE', 8),\n",
       " ('SMITH', 12),\n",
       " ('MARTINEZ', 5),\n",
       " ('MASTEC', 4),\n",
       " ('NO', 4),\n",
       " ('NA', 4),\n",
       " ('TECH', 6),\n",
       " ('SERENITY', 4),\n",
       " ('J', 17),\n",
       " ('CONTRACTORS', 9),\n",
       " ('STAFFING', 13),\n",
       " ('USA', 26),\n",
       " ('SYSTEM', 4),\n",
       " ('TAX', 5),\n",
       " ('TAN', 4),\n",
       " ('CHILDREN', 5),\n",
       " ('LOGISTICS', 18),\n",
       " ('GRAND', 4),\n",
       " ('INDUSTRIAL', 31),\n",
       " ('K', 9),\n",
       " ('DRIVER', 4),\n",
       " ('PROTECTION', 4),\n",
       " ('LTD.', 27),\n",
       " ('COLOR=RED', 34),\n",
       " ('DOCKET', 31),\n",
       " ('OUT', 4),\n",
       " ('LTD', 54),\n",
       " ('ST', 7),\n",
       " ('CAR', 11),\n",
       " ('DATA', 4),\n",
       " ('AMERICAN', 15),\n",
       " ('CABLE', 6),\n",
       " ('RANCH', 4),\n",
       " ('INC.', 466),\n",
       " ('PRODUCE', 6),\n",
       " ('MIX', 4),\n",
       " ('VERITAS', 4),\n",
       " ('LINE', 5),\n",
       " ('LONE', 6),\n",
       " ('TOTAL', 11),\n",
       " ('L', 22),\n",
       " ('PIONEER', 6),\n",
       " ('E.', 5),\n",
       " ('HOLDINGS', 20),\n",
       " ('AUTO', 27),\n",
       " ('GATE', 5),\n",
       " ('EL', 5),\n",
       " ('ET', 1510),\n",
       " ('IN', 19),\n",
       " ('HOSPITAL', 9),\n",
       " ('COAST', 5),\n",
       " ('CENTRAL', 6),\n",
       " ('KEY', 5),\n",
       " ('NORTH', 17),\n",
       " ('PREMIER', 6),\n",
       " ('M', 13),\n",
       " ('DONATION', 4),\n",
       " ('JC', 6),\n",
       " ('FRAC', 4),\n",
       " ('BROTHERS', 7),\n",
       " ('GROUP', 64),\n",
       " ('#', 8),\n",
       " ('INVESTMENTS', 22),\n",
       " ('GARCIA', 4),\n",
       " ('COASTAL', 7),\n",
       " ('AND', 49),\n",
       " ('GLOBAL', 9),\n",
       " ('DISTRIBUTING', 6),\n",
       " ('DEMOLITION', 5),\n",
       " ('ROCK', 5),\n",
       " ('RETAIL', 6),\n",
       " ('OPERATING', 4),\n",
       " ('INTERNATIONAL', 58),\n",
       " ('ON', 6),\n",
       " ('OF', 74),\n",
       " ('HORIZON', 4),\n",
       " ('ALLIED', 4),\n",
       " ('WARRIOR', 4),\n",
       " ('DISTRICT', 7),\n",
       " ('PRECISION', 4),\n",
       " ('PATEL', 5),\n",
       " ('HOPE', 4),\n",
       " ('TECHNICAL', 13),\n",
       " ('ACT', 5),\n",
       " ('SERVICES', 328),\n",
       " ('NEW', 8),\n",
       " ('PARTNERSHIP', 7),\n",
       " ('NETWORKS', 5),\n",
       " ('MEN', 4),\n",
       " ('GOLD', 5),\n",
       " ('VOLTAIRE', 5),\n",
       " ('TO', 14),\n",
       " ('AL', 1496),\n",
       " ('AT', 4),\n",
       " ('BUILDING', 6),\n",
       " ('FLUID', 4),\n",
       " ('PROTECTIVE', 9),\n",
       " ('P', 8),\n",
       " ('WATER', 6),\n",
       " ('CONSULTANTS', 9),\n",
       " ('PRODUCTS', 7),\n",
       " ('FTS', 5),\n",
       " ('MAINTENANCE', 9),\n",
       " ('INVESTMENT', 9),\n",
       " ('TRUCKING', 19),\n",
       " ('PUMP', 4),\n",
       " ('FABRICATION', 10),\n",
       " ('AL.', 7),\n",
       " ('SHINE', 4),\n",
       " ('&', 208),\n",
       " ('SOLUTIONS', 52),\n",
       " ('JET', 5),\n",
       " ('MACHINERY', 4),\n",
       " ('ALL', 5),\n",
       " ('ALY', 4),\n",
       " ('CONSULTING', 13),\n",
       " ('LINES', 6),\n",
       " ('LINEN', 4),\n",
       " ('GREEN', 7),\n",
       " ('INSULATION', 9),\n",
       " ('BANK', 16),\n",
       " ('TOOLS', 5),\n",
       " ('ELECTRICAL', 6),\n",
       " ('<', 137),\n",
       " ('ROAD', 4),\n",
       " ('FOUNDATION', 7),\n",
       " ('COMPANIES', 7),\n",
       " ('FIRST', 6),\n",
       " ('THIS', 4),\n",
       " ('ENTERPRISE', 16),\n",
       " ('STAR', 16),\n",
       " ('BUSINESS', 15),\n",
       " ('OUT.', 5),\n",
       " ('HILL', 4),\n",
       " ('SPRINT', 5),\n",
       " ('BROWN', 6),\n",
       " ('MANAGEMENT', 62),\n",
       " ('PROGRESSIVE', 4),\n",
       " ('R', 10),\n",
       " ('BRANDS', 4),\n",
       " ('EQUIPMENT', 9),\n",
       " ('ESTATES', 4),\n",
       " ('INVESTORS', 4),\n",
       " ('BIG', 7),\n",
       " ('METALS', 4),\n",
       " ('MACHINE', 6),\n",
       " ('CONSTRUCTION', 60),\n",
       " ('CLEANING', 4),\n",
       " ('BEST', 5),\n",
       " ('(', 15),\n",
       " ('CONTRACTING', 4),\n",
       " ('SONS', 5),\n",
       " ('THE', 48),\n",
       " ('EAST', 4),\n",
       " ('NINE', 5),\n",
       " ('SWIFT', 5),\n",
       " ('S', 14),\n",
       " ('P.C', 5),\n",
       " ('MOORE', 4),\n",
       " ('BEEN', 12),\n",
       " ('LIFEGIFT', 4),\n",
       " ('>', 137),\n",
       " ('HONGHUA', 6),\n",
       " ('WEATHERFORD', 9),\n",
       " ('/B', 34),\n",
       " ('WASH', 9),\n",
       " ('SUPERIOR', 6),\n",
       " (')', 16),\n",
       " ('L.L.C.', 29),\n",
       " ('LOPEZ', 4),\n",
       " ('REPAIR', 4),\n",
       " ('PARTS', 4),\n",
       " ('T', 8),\n",
       " ('RESOURCES', 21),\n",
       " ('LIMITED', 6),\n",
       " ('TREE', 4),\n",
       " ('KING', 4),\n",
       " ('CENTER', 23),\n",
       " ('LLP', 10),\n",
       " ('FIRE', 7),\n",
       " ('LLC', 656),\n",
       " ('MANUFACTURING', 6),\n",
       " ('INTEGRATED', 7),\n",
       " ('DISTRIBUTORS', 5),\n",
       " ('RESPONSE', 4),\n",
       " ('US', 5),\n",
       " ('STOP', 5),\n",
       " ('VENTURE', 9),\n",
       " ('FAST', 10),\n",
       " ('TRACER', 5),\n",
       " ('BECON', 4),\n",
       " ('MARINE', 13),\n",
       " ('ELECTRONICALLY', 4),\n",
       " ('EQUITY', 4),\n",
       " ('DIVISION.', 10)]"
      ]
     },
     "execution_count": 29,
     "metadata": {},
     "output_type": "execute_result"
    }
   ],
   "source": [
    "filter_fd(word_list, 3)"
   ]
  },
  {
   "cell_type": "code",
   "execution_count": 36,
   "metadata": {
    "collapsed": false
   },
   "outputs": [],
   "source": [
    "with open(\"output_checked.csv\", \"wb\") as f:\n",
    "    writer = csv.writer(f)\n",
    "    writer.writerows(result_checked_no)\n",
    "    \n",
    "with open(\"output_tocheck.csv\", \"wb\") as f:\n",
    "    writer = csv.writer(f)\n",
    "    writer.writerows(result_unchecked_no)\n",
    "    \n",
    "with open(\"yes_keywords.csv\", \"wb\") as f:\n",
    "    writer = csv.writer(f)\n",
    "    for item in yes_keywords:\n",
    "        writer.writerow([item])\n",
    "    \n",
    "with open(\"no_keywords.csv\", \"wb\") as f:\n",
    "    writer = csv.writer(f)\n",
    "    for item in no_keywords:\n",
    "        writer.writerow([item])"
   ]
  },
  {
   "cell_type": "code",
   "execution_count": 32,
   "metadata": {
    "collapsed": false
   },
   "outputs": [
    {
     "data": {
      "text/plain": [
       "2954"
      ]
     },
     "execution_count": 32,
     "metadata": {},
     "output_type": "execute_result"
    }
   ],
   "source": [
    "len(result_unchecked_no)"
   ]
  }
 ],
 "metadata": {
  "kernelspec": {
   "display_name": "Python 2",
   "language": "python",
   "name": "python2"
  },
  "language_info": {
   "codemirror_mode": {
    "name": "ipython",
    "version": 2
   },
   "file_extension": ".py",
   "mimetype": "text/x-python",
   "name": "python",
   "nbconvert_exporter": "python",
   "pygments_lexer": "ipython2",
   "version": "2.7.8"
  }
 },
 "nbformat": 4,
 "nbformat_minor": 0
}
